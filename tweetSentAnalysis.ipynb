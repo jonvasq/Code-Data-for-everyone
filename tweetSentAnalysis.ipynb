{
 "cells": [
  {
   "cell_type": "markdown",
   "metadata": {},
   "source": [
    "# Import Textblob and pandas"
   ]
  },
  {
   "cell_type": "code",
   "execution_count": 1,
   "metadata": {},
   "outputs": [],
   "source": [
    "import pandas as pd\n",
    "from textblob import TextBlob"
   ]
  },
  {
   "cell_type": "markdown",
   "metadata": {},
   "source": [
    "# Load the csv and look at it"
   ]
  },
  {
   "cell_type": "code",
   "execution_count": 2,
   "metadata": {},
   "outputs": [
    {
     "data": {
      "text/html": [
       "<div>\n",
       "<style scoped>\n",
       "    .dataframe tbody tr th:only-of-type {\n",
       "        vertical-align: middle;\n",
       "    }\n",
       "\n",
       "    .dataframe tbody tr th {\n",
       "        vertical-align: top;\n",
       "    }\n",
       "\n",
       "    .dataframe thead th {\n",
       "        text-align: right;\n",
       "    }\n",
       "</style>\n",
       "<table border=\"1\" class=\"dataframe\">\n",
       "  <thead>\n",
       "    <tr style=\"text-align: right;\">\n",
       "      <th></th>\n",
       "      <th>text</th>\n",
       "      <th>favorited</th>\n",
       "      <th>favoriteCount</th>\n",
       "      <th>replyToSN</th>\n",
       "      <th>created</th>\n",
       "      <th>truncated</th>\n",
       "      <th>id</th>\n",
       "      <th>replyToUID</th>\n",
       "      <th>statusSource</th>\n",
       "      <th>screenName</th>\n",
       "      <th>retweetCount</th>\n",
       "      <th>firm</th>\n",
       "      <th>who</th>\n",
       "    </tr>\n",
       "  </thead>\n",
       "  <tbody>\n",
       "    <tr>\n",
       "      <th>1</th>\n",
       "      <td>This Merlene correcting her Husband for joking...</td>\n",
       "      <td>False</td>\n",
       "      <td>0</td>\n",
       "      <td>NaN</td>\n",
       "      <td>2/27/19 18:41</td>\n",
       "      <td>False</td>\n",
       "      <td>1.100830e+18</td>\n",
       "      <td>NaN</td>\n",
       "      <td>&lt;a href=\"http://www.twitpane.com\" rel=\"nofollo...</td>\n",
       "      <td>mindofmrcole</td>\n",
       "      <td>0</td>\n",
       "      <td>olive+garden</td>\n",
       "      <td>waitress</td>\n",
       "    </tr>\n",
       "    <tr>\n",
       "      <th>2</th>\n",
       "      <td>This ain't just lil kids though, me n my frien...</td>\n",
       "      <td>False</td>\n",
       "      <td>4</td>\n",
       "      <td>NaN</td>\n",
       "      <td>2/27/19 14:14</td>\n",
       "      <td>True</td>\n",
       "      <td>1.100760e+18</td>\n",
       "      <td>NaN</td>\n",
       "      <td>&lt;a href=\"http://twitter.com/download/iphone\" r...</td>\n",
       "      <td>AlexHamilton_51</td>\n",
       "      <td>0</td>\n",
       "      <td>olive+garden</td>\n",
       "      <td>waitress</td>\n",
       "    </tr>\n",
       "    <tr>\n",
       "      <th>3</th>\n",
       "      <td>wheres jonell so i can tell her that tomato st...</td>\n",
       "      <td>False</td>\n",
       "      <td>0</td>\n",
       "      <td>NaN</td>\n",
       "      <td>2/27/19 13:22</td>\n",
       "      <td>True</td>\n",
       "      <td>1.100750e+18</td>\n",
       "      <td>NaN</td>\n",
       "      <td>&lt;a href=\"http://twitter.com/download/iphone\" r...</td>\n",
       "      <td>Kirbifier</td>\n",
       "      <td>0</td>\n",
       "      <td>olive+garden</td>\n",
       "      <td>waitress</td>\n",
       "    </tr>\n",
       "    <tr>\n",
       "      <th>4</th>\n",
       "      <td>@IvankaTrump We need to make enough $ to survi...</td>\n",
       "      <td>False</td>\n",
       "      <td>5</td>\n",
       "      <td>IvankaTrump</td>\n",
       "      <td>2/27/19 12:29</td>\n",
       "      <td>True</td>\n",
       "      <td>1.100730e+18</td>\n",
       "      <td>52544275.0</td>\n",
       "      <td>&lt;a href=\"http://twitter.com/download/iphone\" r...</td>\n",
       "      <td>hillard_jean</td>\n",
       "      <td>0</td>\n",
       "      <td>olive+garden</td>\n",
       "      <td>waitress</td>\n",
       "    </tr>\n",
       "    <tr>\n",
       "      <th>5</th>\n",
       "      <td>The Sopranos (2049)\\r\\n\\r\\nInt. Olive Garden -...</td>\n",
       "      <td>False</td>\n",
       "      <td>2</td>\n",
       "      <td>NaN</td>\n",
       "      <td>2/27/19 7:03</td>\n",
       "      <td>True</td>\n",
       "      <td>1.100650e+18</td>\n",
       "      <td>NaN</td>\n",
       "      <td>&lt;a href=\"http://twitter.com/download/iphone\" r...</td>\n",
       "      <td>RoyleRich</td>\n",
       "      <td>0</td>\n",
       "      <td>olive+garden</td>\n",
       "      <td>waitress</td>\n",
       "    </tr>\n",
       "  </tbody>\n",
       "</table>\n",
       "</div>"
      ],
      "text/plain": [
       "                                                text  favorited  \\\n",
       "1  This Merlene correcting her Husband for joking...      False   \n",
       "2  This ain't just lil kids though, me n my frien...      False   \n",
       "3  wheres jonell so i can tell her that tomato st...      False   \n",
       "4  @IvankaTrump We need to make enough $ to survi...      False   \n",
       "5  The Sopranos (2049)\\r\\n\\r\\nInt. Olive Garden -...      False   \n",
       "\n",
       "   favoriteCount    replyToSN        created  truncated            id  \\\n",
       "1              0          NaN  2/27/19 18:41      False  1.100830e+18   \n",
       "2              4          NaN  2/27/19 14:14       True  1.100760e+18   \n",
       "3              0          NaN  2/27/19 13:22       True  1.100750e+18   \n",
       "4              5  IvankaTrump  2/27/19 12:29       True  1.100730e+18   \n",
       "5              2          NaN   2/27/19 7:03       True  1.100650e+18   \n",
       "\n",
       "   replyToUID                                       statusSource  \\\n",
       "1         NaN  <a href=\"http://www.twitpane.com\" rel=\"nofollo...   \n",
       "2         NaN  <a href=\"http://twitter.com/download/iphone\" r...   \n",
       "3         NaN  <a href=\"http://twitter.com/download/iphone\" r...   \n",
       "4  52544275.0  <a href=\"http://twitter.com/download/iphone\" r...   \n",
       "5         NaN  <a href=\"http://twitter.com/download/iphone\" r...   \n",
       "\n",
       "        screenName  retweetCount          firm       who  \n",
       "1     mindofmrcole             0  olive+garden  waitress  \n",
       "2  AlexHamilton_51             0  olive+garden  waitress  \n",
       "3        Kirbifier             0  olive+garden  waitress  \n",
       "4     hillard_jean             0  olive+garden  waitress  \n",
       "5        RoyleRich             0  olive+garden  waitress  "
      ]
     },
     "execution_count": 2,
     "metadata": {},
     "output_type": "execute_result"
    }
   ],
   "source": [
    "df = pd.read_csv(\"tweets.csv\",index_col=0)\n",
    "df.head()"
   ]
  },
  {
   "cell_type": "markdown",
   "metadata": {},
   "source": [
    "# How many of each resturant to I have?"
   ]
  },
  {
   "cell_type": "code",
   "execution_count": 3,
   "metadata": {},
   "outputs": [
    {
     "data": {
      "text/plain": [
       "olive+garden          1648\n",
       "waffle+house           758\n",
       "ihop                   635\n",
       "hooters                407\n",
       "applebee               324\n",
       "texas+roadhouse        191\n",
       "red+lobster            175\n",
       "outback                161\n",
       "buffalo+wings          129\n",
       "cheesecake+factory     118\n",
       "cracker+barrel         105\n",
       "perkins                 62\n",
       "TGI                     56\n",
       "chilli                  38\n",
       "longhorn                36\n",
       "bob+evans               30\n",
       "chang's                 30\n",
       "bjs                     27\n",
       "ruby+tuesday            14\n",
       "california+pizza        14\n",
       "carrabbas                3\n",
       "Name: firm, dtype: int64"
      ]
     },
     "execution_count": 3,
     "metadata": {},
     "output_type": "execute_result"
    }
   ],
   "source": [
    "df.firm.value_counts()"
   ]
  },
  {
   "cell_type": "markdown",
   "metadata": {},
   "source": [
    "# What about the waiter/waitress split?"
   ]
  },
  {
   "cell_type": "code",
   "execution_count": 4,
   "metadata": {},
   "outputs": [
    {
     "data": {
      "text/plain": [
       "waitress    3484\n",
       "waiter      1477\n",
       "Name: who, dtype: int64"
      ]
     },
     "execution_count": 4,
     "metadata": {},
     "output_type": "execute_result"
    }
   ],
   "source": [
    "df.who.value_counts()"
   ]
  },
  {
   "cell_type": "markdown",
   "metadata": {},
   "source": [
    "### A lot more waitress than waiter"
   ]
  },
  {
   "cell_type": "markdown",
   "metadata": {},
   "source": [
    "# Put the text in a list for iteration"
   ]
  },
  {
   "cell_type": "code",
   "execution_count": 5,
   "metadata": {},
   "outputs": [],
   "source": [
    "public_tweets = df['text'].tolist()"
   ]
  },
  {
   "cell_type": "markdown",
   "metadata": {},
   "source": [
    "# For more information on TextBlob: https://textblob.readthedocs.io/en/dev/\n",
    "# Extract sentiment from all tweets"
   ]
  },
  {
   "cell_type": "code",
   "execution_count": 6,
   "metadata": {},
   "outputs": [],
   "source": [
    "# Create an empty list\n",
    "tweets = []\n",
    "\n",
    "\n",
    "for tweet in public_tweets:\n",
    "    #this will create a textblob out of the tweet\n",
    "    blob = TextBlob(tweet)\n",
    "    #extract the sentiment attribute out of the textblob\n",
    "    sentiment = blob.sentiment\n",
    "    #if statements to give a label to the sentiment\n",
    "    if sentiment[0]>0.5:\n",
    "       tweets.append([tweet,sentiment[0],'positive'])\n",
    "    elif sentiment[0]<-0.5:\n",
    "       tweets.append([tweet,sentiment[0],'negative'])\n",
    "    else:\n",
    "       tweets.append([tweet,sentiment[0],'Neutral'])"
   ]
  },
  {
   "cell_type": "markdown",
   "metadata": {},
   "source": [
    "# Turn list into pandas dataframe"
   ]
  },
  {
   "cell_type": "code",
   "execution_count": 7,
   "metadata": {},
   "outputs": [
    {
     "data": {
      "text/html": [
       "<div>\n",
       "<style scoped>\n",
       "    .dataframe tbody tr th:only-of-type {\n",
       "        vertical-align: middle;\n",
       "    }\n",
       "\n",
       "    .dataframe tbody tr th {\n",
       "        vertical-align: top;\n",
       "    }\n",
       "\n",
       "    .dataframe thead th {\n",
       "        text-align: right;\n",
       "    }\n",
       "</style>\n",
       "<table border=\"1\" class=\"dataframe\">\n",
       "  <thead>\n",
       "    <tr style=\"text-align: right;\">\n",
       "      <th></th>\n",
       "      <th>text</th>\n",
       "      <th>sentiment score</th>\n",
       "      <th>label</th>\n",
       "    </tr>\n",
       "  </thead>\n",
       "  <tbody>\n",
       "    <tr>\n",
       "      <th>0</th>\n",
       "      <td>This Merlene correcting her Husband for joking...</td>\n",
       "      <td>-0.291667</td>\n",
       "      <td>Neutral</td>\n",
       "    </tr>\n",
       "    <tr>\n",
       "      <th>1</th>\n",
       "      <td>This ain't just lil kids though, me n my frien...</td>\n",
       "      <td>-0.500000</td>\n",
       "      <td>Neutral</td>\n",
       "    </tr>\n",
       "    <tr>\n",
       "      <th>2</th>\n",
       "      <td>wheres jonell so i can tell her that tomato st...</td>\n",
       "      <td>0.000000</td>\n",
       "      <td>Neutral</td>\n",
       "    </tr>\n",
       "    <tr>\n",
       "      <th>3</th>\n",
       "      <td>@IvankaTrump We need to make enough $ to survi...</td>\n",
       "      <td>0.000000</td>\n",
       "      <td>Neutral</td>\n",
       "    </tr>\n",
       "    <tr>\n",
       "      <th>4</th>\n",
       "      <td>The Sopranos (2049)\\r\\n\\r\\nInt. Olive Garden -...</td>\n",
       "      <td>0.000000</td>\n",
       "      <td>Neutral</td>\n",
       "    </tr>\n",
       "  </tbody>\n",
       "</table>\n",
       "</div>"
      ],
      "text/plain": [
       "                                                text  sentiment score    label\n",
       "0  This Merlene correcting her Husband for joking...        -0.291667  Neutral\n",
       "1  This ain't just lil kids though, me n my frien...        -0.500000  Neutral\n",
       "2  wheres jonell so i can tell her that tomato st...         0.000000  Neutral\n",
       "3  @IvankaTrump We need to make enough $ to survi...         0.000000  Neutral\n",
       "4  The Sopranos (2049)\\r\\n\\r\\nInt. Olive Garden -...         0.000000  Neutral"
      ]
     },
     "execution_count": 7,
     "metadata": {},
     "output_type": "execute_result"
    }
   ],
   "source": [
    "tweets = pd.DataFrame(tweets,columns = ['text','sentiment score','label'])\n",
    "tweets.head()"
   ]
  },
  {
   "cell_type": "markdown",
   "metadata": {},
   "source": [
    "# transfer sentiment score and label to original dataframe"
   ]
  },
  {
   "cell_type": "code",
   "execution_count": 8,
   "metadata": {},
   "outputs": [
    {
     "data": {
      "text/html": [
       "<div>\n",
       "<style scoped>\n",
       "    .dataframe tbody tr th:only-of-type {\n",
       "        vertical-align: middle;\n",
       "    }\n",
       "\n",
       "    .dataframe tbody tr th {\n",
       "        vertical-align: top;\n",
       "    }\n",
       "\n",
       "    .dataframe thead th {\n",
       "        text-align: right;\n",
       "    }\n",
       "</style>\n",
       "<table border=\"1\" class=\"dataframe\">\n",
       "  <thead>\n",
       "    <tr style=\"text-align: right;\">\n",
       "      <th></th>\n",
       "      <th>text</th>\n",
       "      <th>favorited</th>\n",
       "      <th>favoriteCount</th>\n",
       "      <th>replyToSN</th>\n",
       "      <th>created</th>\n",
       "      <th>truncated</th>\n",
       "      <th>id</th>\n",
       "      <th>replyToUID</th>\n",
       "      <th>statusSource</th>\n",
       "      <th>screenName</th>\n",
       "      <th>retweetCount</th>\n",
       "      <th>firm</th>\n",
       "      <th>who</th>\n",
       "      <th>sentiment score</th>\n",
       "      <th>label</th>\n",
       "    </tr>\n",
       "  </thead>\n",
       "  <tbody>\n",
       "    <tr>\n",
       "      <th>1</th>\n",
       "      <td>This Merlene correcting her Husband for joking...</td>\n",
       "      <td>False</td>\n",
       "      <td>0</td>\n",
       "      <td>NaN</td>\n",
       "      <td>2/27/19 18:41</td>\n",
       "      <td>False</td>\n",
       "      <td>1.100830e+18</td>\n",
       "      <td>NaN</td>\n",
       "      <td>&lt;a href=\"http://www.twitpane.com\" rel=\"nofollo...</td>\n",
       "      <td>mindofmrcole</td>\n",
       "      <td>0</td>\n",
       "      <td>olive+garden</td>\n",
       "      <td>waitress</td>\n",
       "      <td>-0.5</td>\n",
       "      <td>Neutral</td>\n",
       "    </tr>\n",
       "    <tr>\n",
       "      <th>2</th>\n",
       "      <td>This ain't just lil kids though, me n my frien...</td>\n",
       "      <td>False</td>\n",
       "      <td>4</td>\n",
       "      <td>NaN</td>\n",
       "      <td>2/27/19 14:14</td>\n",
       "      <td>True</td>\n",
       "      <td>1.100760e+18</td>\n",
       "      <td>NaN</td>\n",
       "      <td>&lt;a href=\"http://twitter.com/download/iphone\" r...</td>\n",
       "      <td>AlexHamilton_51</td>\n",
       "      <td>0</td>\n",
       "      <td>olive+garden</td>\n",
       "      <td>waitress</td>\n",
       "      <td>0.0</td>\n",
       "      <td>Neutral</td>\n",
       "    </tr>\n",
       "    <tr>\n",
       "      <th>3</th>\n",
       "      <td>wheres jonell so i can tell her that tomato st...</td>\n",
       "      <td>False</td>\n",
       "      <td>0</td>\n",
       "      <td>NaN</td>\n",
       "      <td>2/27/19 13:22</td>\n",
       "      <td>True</td>\n",
       "      <td>1.100750e+18</td>\n",
       "      <td>NaN</td>\n",
       "      <td>&lt;a href=\"http://twitter.com/download/iphone\" r...</td>\n",
       "      <td>Kirbifier</td>\n",
       "      <td>0</td>\n",
       "      <td>olive+garden</td>\n",
       "      <td>waitress</td>\n",
       "      <td>0.0</td>\n",
       "      <td>Neutral</td>\n",
       "    </tr>\n",
       "    <tr>\n",
       "      <th>4</th>\n",
       "      <td>@IvankaTrump We need to make enough $ to survi...</td>\n",
       "      <td>False</td>\n",
       "      <td>5</td>\n",
       "      <td>IvankaTrump</td>\n",
       "      <td>2/27/19 12:29</td>\n",
       "      <td>True</td>\n",
       "      <td>1.100730e+18</td>\n",
       "      <td>52544275.0</td>\n",
       "      <td>&lt;a href=\"http://twitter.com/download/iphone\" r...</td>\n",
       "      <td>hillard_jean</td>\n",
       "      <td>0</td>\n",
       "      <td>olive+garden</td>\n",
       "      <td>waitress</td>\n",
       "      <td>0.0</td>\n",
       "      <td>Neutral</td>\n",
       "    </tr>\n",
       "    <tr>\n",
       "      <th>5</th>\n",
       "      <td>The Sopranos (2049)\\r\\n\\r\\nInt. Olive Garden -...</td>\n",
       "      <td>False</td>\n",
       "      <td>2</td>\n",
       "      <td>NaN</td>\n",
       "      <td>2/27/19 7:03</td>\n",
       "      <td>True</td>\n",
       "      <td>1.100650e+18</td>\n",
       "      <td>NaN</td>\n",
       "      <td>&lt;a href=\"http://twitter.com/download/iphone\" r...</td>\n",
       "      <td>RoyleRich</td>\n",
       "      <td>0</td>\n",
       "      <td>olive+garden</td>\n",
       "      <td>waitress</td>\n",
       "      <td>0.0</td>\n",
       "      <td>Neutral</td>\n",
       "    </tr>\n",
       "  </tbody>\n",
       "</table>\n",
       "</div>"
      ],
      "text/plain": [
       "                                                text  favorited  \\\n",
       "1  This Merlene correcting her Husband for joking...      False   \n",
       "2  This ain't just lil kids though, me n my frien...      False   \n",
       "3  wheres jonell so i can tell her that tomato st...      False   \n",
       "4  @IvankaTrump We need to make enough $ to survi...      False   \n",
       "5  The Sopranos (2049)\\r\\n\\r\\nInt. Olive Garden -...      False   \n",
       "\n",
       "   favoriteCount    replyToSN        created  truncated            id  \\\n",
       "1              0          NaN  2/27/19 18:41      False  1.100830e+18   \n",
       "2              4          NaN  2/27/19 14:14       True  1.100760e+18   \n",
       "3              0          NaN  2/27/19 13:22       True  1.100750e+18   \n",
       "4              5  IvankaTrump  2/27/19 12:29       True  1.100730e+18   \n",
       "5              2          NaN   2/27/19 7:03       True  1.100650e+18   \n",
       "\n",
       "   replyToUID                                       statusSource  \\\n",
       "1         NaN  <a href=\"http://www.twitpane.com\" rel=\"nofollo...   \n",
       "2         NaN  <a href=\"http://twitter.com/download/iphone\" r...   \n",
       "3         NaN  <a href=\"http://twitter.com/download/iphone\" r...   \n",
       "4  52544275.0  <a href=\"http://twitter.com/download/iphone\" r...   \n",
       "5         NaN  <a href=\"http://twitter.com/download/iphone\" r...   \n",
       "\n",
       "        screenName  retweetCount          firm       who  sentiment score  \\\n",
       "1     mindofmrcole             0  olive+garden  waitress             -0.5   \n",
       "2  AlexHamilton_51             0  olive+garden  waitress              0.0   \n",
       "3        Kirbifier             0  olive+garden  waitress              0.0   \n",
       "4     hillard_jean             0  olive+garden  waitress              0.0   \n",
       "5        RoyleRich             0  olive+garden  waitress              0.0   \n",
       "\n",
       "     label  \n",
       "1  Neutral  \n",
       "2  Neutral  \n",
       "3  Neutral  \n",
       "4  Neutral  \n",
       "5  Neutral  "
      ]
     },
     "execution_count": 8,
     "metadata": {},
     "output_type": "execute_result"
    }
   ],
   "source": [
    "df['sentiment score'] = tweets['sentiment score']\n",
    "df['label'] = tweets['label']\n",
    "df.head()"
   ]
  },
  {
   "cell_type": "markdown",
   "metadata": {},
   "source": [
    "# Whats the distribution of Sentiment in the database?"
   ]
  },
  {
   "cell_type": "code",
   "execution_count": 30,
   "metadata": {},
   "outputs": [
    {
     "data": {
      "text/plain": [
       "<matplotlib.axes._subplots.AxesSubplot at 0x2277d89dba8>"
      ]
     },
     "execution_count": 30,
     "metadata": {},
     "output_type": "execute_result"
    },
    {
     "data": {
      "image/png": "[encoded data removed]",
      "text/plain": [
       "<Figure size 432x288 with 1 Axes>"
      ]
     },
     "metadata": {},
     "output_type": "display_data"
    }
   ],
   "source": [
    "df['sentiment score'].plot.hist(stacked=True, bins=50)"
   ]
  },
  {
   "cell_type": "markdown",
   "metadata": {},
   "source": [
    "# I want to graph the results with a box-plot "
   ]
  },
  {
   "cell_type": "code",
   "execution_count": 22,
   "metadata": {},
   "outputs": [
    {
     "data": {
      "text/plain": [
       "Text(0.5,1,'Sentiment Score of Waitstaff by Firm')"
      ]
     },
     "execution_count": 22,
     "metadata": {},
     "output_type": "execute_result"
    },
    {
     "data": {
      "image/png": "[encoded data removed]",
      "text/plain": [
       "<Figure size 1800x576 with 1 Axes>"
      ]
     },
     "metadata": {},
     "output_type": "display_data"
    }
   ],
   "source": [
    "#import libaries\n",
    "import seaborn as sns\n",
    "import matplotlib.pyplot as plt\n",
    "import matplotlib.ticker as ticker\n",
    "\n",
    "#set the looks of the graph\n",
    "sns.set(palette=\"pastel\")\n",
    "sns.set_context(\"poster\",rc={\"grid.linewidth\": 5})\n",
    "plt.figure(figsize=(25, 8))\n",
    "sns.despine(offset=5, trim=True)\n",
    "plt.xticks(rotation=50)\n",
    "\n",
    "#plot boxplot\n",
    "sns.boxplot(x=\"firm\", y=\"sentiment score\", hue=\"who\", palette=[\"m\", \"g\"], data=df,width=0.3).set_title(\"Sentiment Score of Waitstaff by Firm\")"
   ]
  },
  {
   "cell_type": "markdown",
   "metadata": {},
   "source": [
    "# I want to segment the sentiment scores by resturant label so I use a groupby to find the average sentiment score"
   ]
  },
  {
   "cell_type": "code",
   "execution_count": 23,
   "metadata": {},
   "outputs": [],
   "source": [
    "resurants = df.groupby(['firm'])['sentiment score'].mean()\n"
   ]
  },
  {
   "cell_type": "markdown",
   "metadata": {},
   "source": [
    "# What are the worst Resturants?"
   ]
  },
  {
   "cell_type": "code",
   "execution_count": 11,
   "metadata": {},
   "outputs": [
    {
     "data": {
      "text/plain": [
       "firm\n",
       "perkins        -0.016711\n",
       "outback         0.009483\n",
       "waffle+house    0.056725\n",
       "hooters         0.057385\n",
       "applebee        0.057647\n",
       "red+lobster     0.066012\n",
       "chang's         0.069127\n",
       "bjs             0.072152\n",
       "ihop            0.076058\n",
       "bob+evans       0.076909\n",
       "Name: sentiment score, dtype: float64"
      ]
     },
     "execution_count": 11,
     "metadata": {},
     "output_type": "execute_result"
    }
   ],
   "source": [
    "resurants.sort_values().head(10)"
   ]
  },
  {
   "cell_type": "markdown",
   "metadata": {},
   "source": [
    "### looks like perkins needs to improve quite a bit"
   ]
  },
  {
   "cell_type": "markdown",
   "metadata": {},
   "source": [
    "# What about the best resturants?"
   ]
  },
  {
   "cell_type": "code",
   "execution_count": 12,
   "metadata": {},
   "outputs": [
    {
     "data": {
      "text/plain": [
       "firm\n",
       "carrabbas             0.281481\n",
       "cheesecake+factory    0.131601\n",
       "longhorn              0.113320\n",
       "TGI                   0.112619\n",
       "california+pizza      0.111825\n",
       "texas+roadhouse       0.099113\n",
       "buffalo+wings         0.097606\n",
       "cracker+barrel        0.094902\n",
       "ruby+tuesday          0.091922\n",
       "chilli                0.086441\n",
       "Name: sentiment score, dtype: float64"
      ]
     },
     "execution_count": 12,
     "metadata": {},
     "output_type": "execute_result"
    }
   ],
   "source": [
    "resurants.sort_values(ascending =False).head(10)"
   ]
  },
  {
   "cell_type": "markdown",
   "metadata": {},
   "source": [
    "### carrabbas is looking good but remember that there was only 3 tweets of them in the whole data set"
   ]
  },
  {
   "cell_type": "markdown",
   "metadata": {},
   "source": [
    "# What about waitstaff?"
   ]
  },
  {
   "cell_type": "code",
   "execution_count": 13,
   "metadata": {},
   "outputs": [],
   "source": [
    "waitstaff = df.groupby(['who'])['sentiment score'].mean()\n"
   ]
  },
  {
   "cell_type": "code",
   "execution_count": 14,
   "metadata": {},
   "outputs": [
    {
     "data": {
      "text/plain": [
       "who\n",
       "waitress    0.06661\n",
       "waiter      0.09148\n",
       "Name: sentiment score, dtype: float64"
      ]
     },
     "execution_count": 14,
     "metadata": {},
     "output_type": "execute_result"
    }
   ],
   "source": [
    "waitstaff.sort_values().head(10)"
   ]
  },
  {
   "cell_type": "markdown",
   "metadata": {},
   "source": [
    "### looks like waiters are slightly ahead"
   ]
  },
  {
   "cell_type": "markdown",
   "metadata": {},
   "source": [
    "# What about both combined?\n",
    "### I'll use the same groupby but to do two things at once you need to pass a list into the first part like so"
   ]
  },
  {
   "cell_type": "code",
   "execution_count": 15,
   "metadata": {},
   "outputs": [],
   "source": [
    "both = df.groupby(['firm','who'])['sentiment score'].mean()"
   ]
  },
  {
   "cell_type": "markdown",
   "metadata": {},
   "source": [
    "# This is what it will look like\n",
    "## This is called a multi-indexed dataframe"
   ]
  },
  {
   "cell_type": "code",
   "execution_count": 16,
   "metadata": {},
   "outputs": [
    {
     "data": {
      "text/plain": [
       "firm      who     \n",
       "TGI       waiter      0.114063\n",
       "          waitress    0.110694\n",
       "applebee  waiter      0.040356\n",
       "          waitress    0.074517\n",
       "bjs       waiter      0.058475\n",
       "Name: sentiment score, dtype: float64"
      ]
     },
     "execution_count": 16,
     "metadata": {},
     "output_type": "execute_result"
    }
   ],
   "source": [
    "both.head()"
   ]
  },
  {
   "cell_type": "markdown",
   "metadata": {},
   "source": [
    "# You're able to call either the main or both levels like so\n",
    "### This is nice if you need to filter or iterate over some data"
   ]
  },
  {
   "cell_type": "code",
   "execution_count": 17,
   "metadata": {},
   "outputs": [
    {
     "data": {
      "text/plain": [
       "who\n",
       "waiter      0.114063\n",
       "waitress    0.110694\n",
       "Name: sentiment score, dtype: float64"
      ]
     },
     "execution_count": 17,
     "metadata": {},
     "output_type": "execute_result"
    }
   ],
   "source": [
    "both['TGI']"
   ]
  },
  {
   "cell_type": "markdown",
   "metadata": {},
   "source": [
    "# or"
   ]
  },
  {
   "cell_type": "code",
   "execution_count": 18,
   "metadata": {},
   "outputs": [
    {
     "data": {
      "text/plain": [
       "0.11406250000000001"
      ]
     },
     "execution_count": 18,
     "metadata": {},
     "output_type": "execute_result"
    }
   ],
   "source": [
    "both['TGI']['waiter']"
   ]
  },
  {
   "cell_type": "markdown",
   "metadata": {},
   "source": [
    "# Here's how I got value counts for the two columns.\n",
    "## You can't just call value_counts because it takes a series"
   ]
  },
  {
   "cell_type": "code",
   "execution_count": 19,
   "metadata": {},
   "outputs": [
    {
     "data": {
      "text/plain": [
       "firm                who     \n",
       "olive+garden        waitress    1180\n",
       "waffle+house        waitress     690\n",
       "olive+garden        waiter       468\n",
       "ihop                waitress     424\n",
       "hooters             waitress     387\n",
       "ihop                waiter       211\n",
       "applebee            waitress     164\n",
       "                    waiter       160\n",
       "texas+roadhouse     waiter        98\n",
       "red+lobster         waitress      95\n",
       "texas+roadhouse     waitress      93\n",
       "outback             waitress      84\n",
       "red+lobster         waiter        80\n",
       "cracker+barrel      waitress      77\n",
       "outback             waiter        77\n",
       "buffalo+wings       waitress      70\n",
       "waffle+house        waiter        68\n",
       "cheesecake+factory  waiter        59\n",
       "buffalo+wings       waiter        59\n",
       "cheesecake+factory  waitress      59\n",
       "perkins             waitress      52\n",
       "TGI                 waiter        32\n",
       "cracker+barrel      waiter        28\n",
       "chilli              waiter        26\n",
       "TGI                 waitress      24\n",
       "chang's             waiter        21\n",
       "hooters             waiter        20\n",
       "longhorn            waitress      20\n",
       "bob+evans           waitress      19\n",
       "longhorn            waiter        16\n",
       "bjs                 waiter        16\n",
       "chilli              waitress      12\n",
       "bob+evans           waiter        11\n",
       "bjs                 waitress      11\n",
       "california+pizza    waiter        10\n",
       "perkins             waiter        10\n",
       "chang's             waitress       9\n",
       "ruby+tuesday        waiter         7\n",
       "                    waitress       7\n",
       "california+pizza    waitress       4\n",
       "carrabbas           waitress       3\n",
       "dtype: int64"
      ]
     },
     "execution_count": 19,
     "metadata": {},
     "output_type": "execute_result"
    }
   ],
   "source": [
    "df.groupby([\"firm\", \"who\"]).size().sort_values(ascending =False)"
   ]
  },
  {
   "cell_type": "markdown",
   "metadata": {},
   "source": [
    "# Moving on to the actual question"
   ]
  },
  {
   "cell_type": "markdown",
   "metadata": {},
   "source": [
    "# which group does the worst?"
   ]
  },
  {
   "cell_type": "code",
   "execution_count": 20,
   "metadata": {},
   "outputs": [
    {
     "data": {
      "text/plain": [
       "firm              who     \n",
       "california+pizza  waitress   -0.105833\n",
       "outback           waitress   -0.064989\n",
       "perkins           waitress   -0.016719\n",
       "                  waiter     -0.016667\n",
       "chang's           waiter      0.019444\n",
       "applebee          waiter      0.040356\n",
       "red+lobster       waiter      0.048245\n",
       "longhorn          waiter      0.049241\n",
       "hooters           waitress    0.050409\n",
       "waffle+house      waitress    0.052004\n",
       "Name: sentiment score, dtype: float64"
      ]
     },
     "execution_count": 20,
     "metadata": {},
     "output_type": "execute_result"
    }
   ],
   "source": [
    "both.sort_values().head(10)"
   ]
  },
  {
   "cell_type": "markdown",
   "metadata": {},
   "source": [
    "## Looks like california pizza needs to look into their waitresses\n",
    "## but remember they didn't have a lot of observations in the dataset (only 4) so outback is the loser here to me"
   ]
  },
  {
   "cell_type": "markdown",
   "metadata": {},
   "source": [
    "# What about the best groups?"
   ]
  },
  {
   "cell_type": "code",
   "execution_count": 21,
   "metadata": {},
   "outputs": [
    {
     "data": {
      "text/plain": [
       "firm                who     \n",
       "carrabbas           waitress    0.281481\n",
       "california+pizza    waiter      0.198889\n",
       "hooters             waiter      0.192367\n",
       "chang's             waitress    0.185053\n",
       "cheesecake+factory  waiter      0.177990\n",
       "longhorn            waitress    0.164583\n",
       "texas+roadhouse     waiter      0.126524\n",
       "cracker+barrel      waiter      0.119898\n",
       "TGI                 waiter      0.114063\n",
       "                    waitress    0.110694\n",
       "Name: sentiment score, dtype: float64"
      ]
     },
     "execution_count": 21,
     "metadata": {},
     "output_type": "execute_result"
    }
   ],
   "source": [
    "both.sort_values(ascending =False).head(10)"
   ]
  },
  {
   "cell_type": "code",
   "execution_count": null,
   "metadata": {},
   "outputs": [],
   "source": [
    "sns.barplot(x=\"frim\", y=\"firm\", data=df)"
   ]
  }
 ],
 "metadata": {
  "kernelspec": {
   "display_name": "Python 3",
   "language": "python",
   "name": "python3"
  },
  "language_info": {
   "codemirror_mode": {
    "name": "ipython",
    "version": 3
   },
   "file_extension": ".py",
   "mimetype": "text/x-python",
   "name": "python",
   "nbconvert_exporter": "python",
   "pygments_lexer": "ipython3",
   "version": "3.6.5"
  }
 },
 "nbformat": 4,
 "nbformat_minor": 2
}
